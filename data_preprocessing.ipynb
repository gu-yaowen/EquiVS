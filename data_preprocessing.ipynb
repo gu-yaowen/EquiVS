{
 "cells": [
  {
   "cell_type": "code",
   "execution_count": 1,
   "id": "93443228",
   "metadata": {},
   "outputs": [],
   "source": [
    "import os\n",
    "import pandas as pd\n",
    "import numpy as np\n",
    "# import molvs"
   ]
  },
  {
   "cell_type": "markdown",
   "id": "dbea57f7",
   "metadata": {},
   "source": [
    "# Data Cleaning"
   ]
  },
  {
   "cell_type": "code",
   "execution_count": null,
   "id": "18abba84",
   "metadata": {},
   "outputs": [],
   "source": [
    "# Data V1\n",
    "df = pd.read_csv('Consensus_CompoundBioactivity_Dataset_v1.1.csv')\n",
    "df = df[df['Unit'] == 'neg. log']\n",
    "df = df[df['Activity type'].isin(['pIC50', 'pPotency', 'pKi', 'pKd', 'pEC50'])]\n",
    "df.to_csv('filtered_activity.csv', index=None)"
   ]
  },
  {
   "cell_type": "code",
   "execution_count": null,
   "id": "faf86311",
   "metadata": {},
   "outputs": [],
   "source": [
    "# Data V2\n",
    "def find_suit_value(data, idx):\n",
    "    st = np.where(np.array(data.columns)=='Mean_C (0)')[0][0]\n",
    "    ed = np.where(np.array(data.columns)=='Mean_PD (9)')[0][0]\n",
    "    ac_value = data.iloc[idx, st:ed].dropna().values\n",
    "    sort_value = []\n",
    "    for value in ac_value:\n",
    "        v = float(value.split(' ')[0])\n",
    "        count = int(value.split('(')[1].split(')')[0])\n",
    "        sort_value.append([count, v])\n",
    "    sort_value = np.array(sorted(sort_value, key=lambda x: x[0], reverse=True))\n",
    "    max_count_values = sort_value[np.where(sort_value[:, 0] == sort_value[:, 0].max()), 1]\n",
    "    if max_count_values.max() - max_count_values.min() >= 1:\n",
    "        return None\n",
    "    return np.mean(max_count_values)\n",
    "\n",
    "df = pd.read_csv('filtered_activity.csv')\n",
    "toy_data = df.head(10)\n",
    "v_list = []\n",
    "for i in range(len(df)):\n",
    "    try:\n",
    "        v_list.append(find_suit_value(df, i))   \n",
    "    except:\n",
    "        v_list.append(99999)\n",
    "    if i % 10000 == 0:\n",
    "        print(i)"
   ]
  },
  {
   "cell_type": "code",
   "execution_count": null,
   "id": "84de9d8b",
   "metadata": {},
   "outputs": [],
   "source": [
    "# Data V3\n",
    "df = pd.read_csv('filtered_activity_s2.csv')\n",
    "df = df[df['Final Activity']!=None]\n",
    "df = df[df['Final Activity']!=99999]\n",
    "df = df[['ChEMBL ID', 'PubChem ID', 'IUPHAR ID', 'Target', 'Activity type',\n",
    "       'Assay type', 'Unit',  'Activity check annotation', 'Ligand names', 'SMILES (Canonical)_C',\n",
    "       'SMILES (Canonical)_PC', 'SMILES (Canonical)_B', 'SMILES (Canonical)_I',\n",
    "       'SMILES (Canonical)_PD', 'Structure check (Tanimoto)', 'Source',\n",
    "       'Final Activity']]\n",
    "df = df[df['Structure check (Tanimoto)'].isin(['1 structure', 'match', 'no match (1)'])]\n",
    "df.to_csv('filtered_activity_s3.csv', index=None)"
   ]
  },
  {
   "cell_type": "code",
   "execution_count": null,
   "id": "efceed12",
   "metadata": {},
   "outputs": [],
   "source": [
    "# Data V4\n",
    "df = pd.read_csv('/data2/guyaowen/test/filtered_activity_s3.csv')\n",
    "v = df[['SMILES (Canonical)_C', 'SMILES (Canonical)_PC', 'SMILES (Canonical)_B',\n",
    "         'SMILES (Canonical)_I', 'SMILES (Canonical)_PD']].values\n",
    "smiles = []\n",
    "for i in v:\n",
    "    s = False\n",
    "    for j in i:\n",
    "        if type(j) == str and s==False:\n",
    "            smiles.append(j)\n",
    "            s = True\n",
    "            continue\n",
    "df['SMILES'] = smiles\n",
    "del df['SMILES (Canonical)_C'], df['SMILES (Canonical)_PC'], df['SMILES (Canonical)_B'], df['SMILES (Canonical)_I'], df['SMILES (Canonical)_PD']\n",
    "df.to_csv('/data2/guyaowen/test/filtered_activity_s4.csv', index=None)"
   ]
  },
  {
   "cell_type": "code",
   "execution_count": null,
   "id": "e2fc0440",
   "metadata": {},
   "outputs": [],
   "source": [
    "# Data V5\n",
    "df[df['Final Activity'] > 0].to_csv('/data2/guyaowen/test/filtered_activity_s5.csv', index=None)"
   ]
  },
  {
   "cell_type": "code",
   "execution_count": null,
   "id": "4cb2658a",
   "metadata": {},
   "outputs": [],
   "source": [
    "# Data V6\n",
    "df = pd.read_csv('/data2/guyaowen/test/filtered_activity_s5.csv')\n",
    "from rdkit import Chem\n",
    "smiles = df['SMILES'].value_counts().index\n",
    "new_smiles = []\n",
    "for s in smiles:\n",
    "    try:\n",
    "        new_smiles.append(Chem.MolToSmiles(Chem.MolFromSmiles(s)))\n",
    "    except:\n",
    "        try:\n",
    "            new_smiles.append(Chem.MolToSmiles(Chem.MolFromSmiles(s, sanitize=False)))\n",
    "        except:\n",
    "            new_smiles.append(None)\n",
    "\n",
    "smiles_dict = dict(zip(smiles, new_smiles))\n",
    "df['SMILES'] = df['SMILES'].map(lambda x: smiles_dict[x])\n",
    "df = df.dropna(subset=['SMILES'])\n",
    "df.to_csv('/data2/guyaowen/test/filtered_activity_s6.csv', index=None)"
   ]
  },
  {
   "cell_type": "code",
   "execution_count": 4,
   "id": "3a0673a5",
   "metadata": {},
   "outputs": [
    {
     "name": "stderr",
     "output_type": "stream",
     "text": [
      "/home/gyw/anaconda3/envs/cheminfo/lib/python3.7/site-packages/IPython/core/interactiveshell.py:3457: DtypeWarning: Columns (2) have mixed types.Specify dtype option on import or set low_memory=False.\n",
      "  exec(code_obj, self.user_global_ns, self.user_ns)\n"
     ]
    }
   ],
   "source": [
    "df = pd.read_csv('/home/gyw/master thesis/data/filtered_activity_s6.csv')\n",
    "t = df['Target'].value_counts()[\n",
    "    df['Target'].value_counts() >= 300].index\n",
    "df = df[df['Target'].isin(t)]\n",
    "df = df.drop_duplicates(subset=['Target', 'SMILES', 'Final Activity'])\n",
    "df = df.reset_index(drop=True)\n",
    "df.to_csv('/home/gyw/master thesis/data/filtered_activity_new.csv', index=None)"
   ]
  },
  {
   "cell_type": "code",
   "execution_count": 8,
   "id": "0025f8a9",
   "metadata": {},
   "outputs": [],
   "source": [
    "df_smi = df['SMILES'].unique()\n",
    "smi = {}\n",
    "for idx, i in enumerate(df_smi):\n",
    "    sdf = f'../data/molecule_structure/{idx}.sdf'\n",
    "    smi[i] = sdf"
   ]
  },
  {
   "cell_type": "code",
   "execution_count": 15,
   "id": "10cca956",
   "metadata": {},
   "outputs": [],
   "source": [
    "pd.DataFrame(np.array([list(smi.keys()), \n",
    "                       list(smi.values())]).T, \n",
    "             columns=['SMILES', 'Conformer_path']\n",
    "            ).to_csv('data/molecule_structure.csv', index=None)"
   ]
  },
  {
   "cell_type": "code",
   "execution_count": 16,
   "id": "9c093bd0",
   "metadata": {},
   "outputs": [],
   "source": [
    "df['Conformer_path'] = df['SMILES'].map(lambda x: smi[x])"
   ]
  },
  {
   "cell_type": "code",
   "execution_count": 18,
   "id": "d8c422e5",
   "metadata": {},
   "outputs": [],
   "source": [
    "for t in df['Target'].value_counts().index:\n",
    "    df[df['Target'] == t].to_csv(f'data/target/{t}.csv', index=None)"
   ]
  },
  {
   "cell_type": "code",
   "execution_count": 93,
   "id": "008a3409",
   "metadata": {},
   "outputs": [
    {
     "data": {
      "text/plain": [
       "972225"
      ]
     },
     "execution_count": 93,
     "metadata": {},
     "output_type": "execute_result"
    }
   ],
   "source": [
    "len(os.listdir(path='data/molecules'))"
   ]
  },
  {
   "cell_type": "code",
   "execution_count": 94,
   "id": "dc4e4cd1",
   "metadata": {},
   "outputs": [
    {
     "data": {
      "text/plain": [
       "972960"
      ]
     },
     "execution_count": 94,
     "metadata": {},
     "output_type": "execute_result"
    }
   ],
   "source": [
    "len(smi)"
   ]
  },
  {
   "cell_type": "code",
   "execution_count": null,
   "id": "2a317168",
   "metadata": {},
   "outputs": [],
   "source": []
  }
 ],
 "metadata": {
  "kernelspec": {
   "display_name": "Python 3 (ipykernel)",
   "language": "python",
   "name": "python3"
  },
  "language_info": {
   "codemirror_mode": {
    "name": "ipython",
    "version": 3
   },
   "file_extension": ".py",
   "mimetype": "text/x-python",
   "name": "python",
   "nbconvert_exporter": "python",
   "pygments_lexer": "ipython3",
   "version": "3.7.10"
  }
 },
 "nbformat": 4,
 "nbformat_minor": 5
}
